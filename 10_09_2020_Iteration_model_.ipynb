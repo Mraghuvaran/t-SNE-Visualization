{
  "nbformat": 4,
  "nbformat_minor": 0,
  "metadata": {
    "kernelspec": {
      "display_name": "Python 3",
      "language": "python",
      "name": "python3"
    },
    "language_info": {
      "codemirror_mode": {
        "name": "ipython",
        "version": 3
      },
      "file_extension": ".py",
      "mimetype": "text/x-python",
      "name": "python",
      "nbconvert_exporter": "python",
      "pygments_lexer": "ipython3",
      "version": "3.7.4"
    },
    "colab": {
      "name": "10_09_2020_Iteration model .ipynb",
      "provenance": [],
      "collapsed_sections": [],
      "include_colab_link": true
    }
  },
  "cells": [
    {
      "cell_type": "markdown",
      "metadata": {
        "id": "view-in-github",
        "colab_type": "text"
      },
      "source": [
        "<a href=\"https://colab.research.google.com/github/Mraghuvaran/t-SNE-Visualization/blob/master/10_09_2020_Iteration_model_.ipynb\" target=\"_parent\"><img src=\"https://colab.research.google.com/assets/colab-badge.svg\" alt=\"Open In Colab\"/></a>"
      ]
    },
    {
      "cell_type": "code",
      "metadata": {
        "id": "xrLpUuNUgwWB",
        "colab_type": "code",
        "colab": {
          "base_uri": "https://localhost:8080/",
          "height": 201
        },
        "outputId": "e7a12694-b6d5-409a-adf2-44187926728f"
      },
      "source": [
        "!wget https://sagemaker-studio-944864437887-vpkn7w39q58.s3.amazonaws.com/Original_data.csv"
      ],
      "execution_count": 1,
      "outputs": [
        {
          "output_type": "stream",
          "text": [
            "--2020-09-11 08:43:05--  https://sagemaker-studio-944864437887-vpkn7w39q58.s3.amazonaws.com/Original_data.csv\n",
            "Resolving sagemaker-studio-944864437887-vpkn7w39q58.s3.amazonaws.com (sagemaker-studio-944864437887-vpkn7w39q58.s3.amazonaws.com)... 52.216.18.72\n",
            "Connecting to sagemaker-studio-944864437887-vpkn7w39q58.s3.amazonaws.com (sagemaker-studio-944864437887-vpkn7w39q58.s3.amazonaws.com)|52.216.18.72|:443... connected.\n",
            "HTTP request sent, awaiting response... 200 OK\n",
            "Length: 96790966 (92M) [text/csv]\n",
            "Saving to: ‘Original_data.csv.3’\n",
            "\n",
            "Original_data.csv.3 100%[===================>]  92.31M  37.3MB/s    in 2.5s    \n",
            "\n",
            "2020-09-11 08:43:08 (37.3 MB/s) - ‘Original_data.csv.3’ saved [96790966/96790966]\n",
            "\n"
          ],
          "name": "stdout"
        }
      ]
    },
    {
      "cell_type": "code",
      "metadata": {
        "id": "3BdNIO7GggRy",
        "colab_type": "code",
        "colab": {
          "base_uri": "https://localhost:8080/",
          "height": 70
        },
        "outputId": "f7517ea6-3666-4b08-96cf-94a9527052ce"
      },
      "source": [
        "# Importing libraries \n",
        "import pandas as pd\n",
        "import numpy as np\n",
        "from sklearn.preprocessing import OneHotEncoder, LabelEncoder\n",
        "from sklearn.model_selection import train_test_split, cross_val_score, GridSearchCV\n",
        "from sklearn.tree import DecisionTreeClassifier, export_graphviz\n",
        "import graphviz\n",
        "from sklearn.ensemble import RandomForestClassifier\n",
        "from sklearn.metrics import accuracy_score, roc_auc_score\n",
        "\n",
        "from mlxtend.evaluate import feature_importance_permutation\n",
        "\n",
        "import matplotlib.pyplot as plt\n",
        "%matplotlib inline\n",
        "\n",
        "import seaborn as sn"
      ],
      "execution_count": 2,
      "outputs": [
        {
          "output_type": "stream",
          "text": [
            "/usr/local/lib/python3.6/dist-packages/statsmodels/tools/_testing.py:19: FutureWarning: pandas.util.testing is deprecated. Use the functions in the public API at pandas.testing instead.\n",
            "  import pandas.util.testing as tm\n"
          ],
          "name": "stderr"
        }
      ]
    },
    {
      "cell_type": "code",
      "metadata": {
        "id": "qjSuaS3wggR3",
        "colab_type": "code",
        "colab": {
          "base_uri": "https://localhost:8080/",
          "height": 455
        },
        "outputId": "7f8ad33a-295b-43a5-90d2-c6eace052750"
      },
      "source": [
        "#reading the data \n",
        "data = pd.read_csv(\"/content/Original_data.csv\",low_memory=False)\n",
        "data.head()"
      ],
      "execution_count": 3,
      "outputs": [
        {
          "output_type": "execute_result",
          "data": {
            "text/html": [
              "<div>\n",
              "<style scoped>\n",
              "    .dataframe tbody tr th:only-of-type {\n",
              "        vertical-align: middle;\n",
              "    }\n",
              "\n",
              "    .dataframe tbody tr th {\n",
              "        vertical-align: top;\n",
              "    }\n",
              "\n",
              "    .dataframe thead th {\n",
              "        text-align: right;\n",
              "    }\n",
              "</style>\n",
              "<table border=\"1\" class=\"dataframe\">\n",
              "  <thead>\n",
              "    <tr style=\"text-align: right;\">\n",
              "      <th></th>\n",
              "      <th>ADDRESS_X</th>\n",
              "      <th>LATITUDE_X</th>\n",
              "      <th>LONGITUDE_X</th>\n",
              "      <th>AGE</th>\n",
              "      <th>COMMUNITY_COUNCIL_NEIGHBORHOOD</th>\n",
              "      <th>CPD_NEIGHBORHOOD</th>\n",
              "      <th>CRASHDATE</th>\n",
              "      <th>CRASHLOCATION</th>\n",
              "      <th>CRASHSEVERITY</th>\n",
              "      <th>CRASHSEVERITYID</th>\n",
              "      <th>DATECRASHREPORTED</th>\n",
              "      <th>DAYOFWEEK</th>\n",
              "      <th>GENDER</th>\n",
              "      <th>INJURIES</th>\n",
              "      <th>INSTANCEID</th>\n",
              "      <th>LIGHTCONDITIONSPRIMARY</th>\n",
              "      <th>LOCALREPORTNO</th>\n",
              "      <th>MANNEROFCRASH</th>\n",
              "      <th>ROADCONDITIONSPRIMARY</th>\n",
              "      <th>ROADCONTOUR</th>\n",
              "      <th>ROADSURFACE</th>\n",
              "      <th>SNA_NEIGHBORHOOD</th>\n",
              "      <th>TYPEOFPERSON</th>\n",
              "      <th>WEATHER</th>\n",
              "      <th>ZIP</th>\n",
              "      <th>UNITTYPE</th>\n",
              "    </tr>\n",
              "  </thead>\n",
              "  <tbody>\n",
              "    <tr>\n",
              "      <th>0</th>\n",
              "      <td>NaN</td>\n",
              "      <td>NaN</td>\n",
              "      <td>NaN</td>\n",
              "      <td>UNKNOWN</td>\n",
              "      <td>NaN</td>\n",
              "      <td>NaN</td>\n",
              "      <td>NaN</td>\n",
              "      <td>NaN</td>\n",
              "      <td>NaN</td>\n",
              "      <td>NaN</td>\n",
              "      <td>NaN</td>\n",
              "      <td>NaN</td>\n",
              "      <td>NaN</td>\n",
              "      <td>NaN</td>\n",
              "      <td>9C12DABA-4EE6-4283-9443-CE45BE543EDC</td>\n",
              "      <td>NaN</td>\n",
              "      <td>NaN</td>\n",
              "      <td>NaN</td>\n",
              "      <td>NaN</td>\n",
              "      <td>NaN</td>\n",
              "      <td>NaN</td>\n",
              "      <td>NaN</td>\n",
              "      <td>NaN</td>\n",
              "      <td>NaN</td>\n",
              "      <td>NaN</td>\n",
              "      <td>NaN</td>\n",
              "    </tr>\n",
              "    <tr>\n",
              "      <th>1</th>\n",
              "      <td>NaN</td>\n",
              "      <td>NaN</td>\n",
              "      <td>NaN</td>\n",
              "      <td>UNKNOWN</td>\n",
              "      <td>NaN</td>\n",
              "      <td>NaN</td>\n",
              "      <td>10/05/2019 09:15:00 AM</td>\n",
              "      <td>NaN</td>\n",
              "      <td>5 - PROPERTY DAMAGE ONLY</td>\n",
              "      <td>201905.0</td>\n",
              "      <td>NaN</td>\n",
              "      <td>SAT</td>\n",
              "      <td>NaN</td>\n",
              "      <td>NaN</td>\n",
              "      <td>E6FD3246-699E-46DB-8CBE-A908C2E7D7FE</td>\n",
              "      <td>NaN</td>\n",
              "      <td>NaN</td>\n",
              "      <td>NaN</td>\n",
              "      <td>NaN</td>\n",
              "      <td>NaN</td>\n",
              "      <td>NaN</td>\n",
              "      <td>NaN</td>\n",
              "      <td>NaN</td>\n",
              "      <td>NaN</td>\n",
              "      <td>NaN</td>\n",
              "      <td>NaN</td>\n",
              "    </tr>\n",
              "    <tr>\n",
              "      <th>2</th>\n",
              "      <td>NaN</td>\n",
              "      <td>NaN</td>\n",
              "      <td>NaN</td>\n",
              "      <td>UNKNOWN</td>\n",
              "      <td>NaN</td>\n",
              "      <td>NaN</td>\n",
              "      <td>NaN</td>\n",
              "      <td>NaN</td>\n",
              "      <td>NaN</td>\n",
              "      <td>NaN</td>\n",
              "      <td>NaN</td>\n",
              "      <td>NaN</td>\n",
              "      <td>NaN</td>\n",
              "      <td>NaN</td>\n",
              "      <td>13F29735-61AC-4116-B41E-A58C66D3F991</td>\n",
              "      <td>NaN</td>\n",
              "      <td>135001314</td>\n",
              "      <td>NaN</td>\n",
              "      <td>NaN</td>\n",
              "      <td>NaN</td>\n",
              "      <td>NaN</td>\n",
              "      <td>NaN</td>\n",
              "      <td>NaN</td>\n",
              "      <td>NaN</td>\n",
              "      <td>NaN</td>\n",
              "      <td>NaN</td>\n",
              "    </tr>\n",
              "    <tr>\n",
              "      <th>3</th>\n",
              "      <td>NaN</td>\n",
              "      <td>NaN</td>\n",
              "      <td>NaN</td>\n",
              "      <td>UNKNOWN</td>\n",
              "      <td>NaN</td>\n",
              "      <td>NaN</td>\n",
              "      <td>NaN</td>\n",
              "      <td>NaN</td>\n",
              "      <td>NaN</td>\n",
              "      <td>NaN</td>\n",
              "      <td>NaN</td>\n",
              "      <td>NaN</td>\n",
              "      <td>NaN</td>\n",
              "      <td>NaN</td>\n",
              "      <td>13F29735-61AC-4116-B41E-A58C66D3F991</td>\n",
              "      <td>NaN</td>\n",
              "      <td>135001314</td>\n",
              "      <td>NaN</td>\n",
              "      <td>NaN</td>\n",
              "      <td>NaN</td>\n",
              "      <td>NaN</td>\n",
              "      <td>NaN</td>\n",
              "      <td>NaN</td>\n",
              "      <td>NaN</td>\n",
              "      <td>NaN</td>\n",
              "      <td>NaN</td>\n",
              "    </tr>\n",
              "    <tr>\n",
              "      <th>4</th>\n",
              "      <td>NaN</td>\n",
              "      <td>NaN</td>\n",
              "      <td>NaN</td>\n",
              "      <td>UNKNOWN</td>\n",
              "      <td>NaN</td>\n",
              "      <td>NaN</td>\n",
              "      <td>NaN</td>\n",
              "      <td>NaN</td>\n",
              "      <td>NaN</td>\n",
              "      <td>NaN</td>\n",
              "      <td>NaN</td>\n",
              "      <td>NaN</td>\n",
              "      <td>NaN</td>\n",
              "      <td>NaN</td>\n",
              "      <td>38160487-D58E-4D75-BBB9-B3D3C82F3D20</td>\n",
              "      <td>NaN</td>\n",
              "      <td>NaN</td>\n",
              "      <td>NaN</td>\n",
              "      <td>NaN</td>\n",
              "      <td>NaN</td>\n",
              "      <td>NaN</td>\n",
              "      <td>NaN</td>\n",
              "      <td>NaN</td>\n",
              "      <td>NaN</td>\n",
              "      <td>NaN</td>\n",
              "      <td>NaN</td>\n",
              "    </tr>\n",
              "  </tbody>\n",
              "</table>\n",
              "</div>"
            ],
            "text/plain": [
              "  ADDRESS_X  LATITUDE_X  LONGITUDE_X  ... WEATHER  ZIP UNITTYPE\n",
              "0       NaN         NaN          NaN  ...     NaN  NaN      NaN\n",
              "1       NaN         NaN          NaN  ...     NaN  NaN      NaN\n",
              "2       NaN         NaN          NaN  ...     NaN  NaN      NaN\n",
              "3       NaN         NaN          NaN  ...     NaN  NaN      NaN\n",
              "4       NaN         NaN          NaN  ...     NaN  NaN      NaN\n",
              "\n",
              "[5 rows x 26 columns]"
            ]
          },
          "metadata": {
            "tags": []
          },
          "execution_count": 3
        }
      ]
    },
    {
      "cell_type": "code",
      "metadata": {
        "id": "094Z4jXJggSL",
        "colab_type": "code",
        "colab": {
          "base_uri": "https://localhost:8080/",
          "height": 151
        },
        "outputId": "eb394957-87ae-4019-c85c-a1fe0189c43b"
      },
      "source": [
        "#checking the column names \n",
        "data.columns"
      ],
      "execution_count": 4,
      "outputs": [
        {
          "output_type": "execute_result",
          "data": {
            "text/plain": [
              "Index(['ADDRESS_X', 'LATITUDE_X', 'LONGITUDE_X', 'AGE',\n",
              "       'COMMUNITY_COUNCIL_NEIGHBORHOOD', 'CPD_NEIGHBORHOOD', 'CRASHDATE',\n",
              "       'CRASHLOCATION', 'CRASHSEVERITY', 'CRASHSEVERITYID',\n",
              "       'DATECRASHREPORTED', 'DAYOFWEEK', 'GENDER', 'INJURIES', 'INSTANCEID',\n",
              "       'LIGHTCONDITIONSPRIMARY', 'LOCALREPORTNO', 'MANNEROFCRASH',\n",
              "       'ROADCONDITIONSPRIMARY', 'ROADCONTOUR', 'ROADSURFACE',\n",
              "       'SNA_NEIGHBORHOOD', 'TYPEOFPERSON', 'WEATHER', 'ZIP', 'UNITTYPE'],\n",
              "      dtype='object')"
            ]
          },
          "metadata": {
            "tags": []
          },
          "execution_count": 4
        }
      ]
    },
    {
      "cell_type": "code",
      "metadata": {
        "id": "HS2lE0nlggSQ",
        "colab_type": "code",
        "colab": {
          "base_uri": "https://localhost:8080/",
          "height": 486
        },
        "outputId": "275b6dca-767e-4b34-e3b4-61f36ec8b995"
      },
      "source": [
        "#finding the number of unique values in each column \n",
        "n = data.nunique(axis=0) \n",
        "  \n",
        "print(\"No.of.unique values in each column :\\n\", \n",
        "      n)"
      ],
      "execution_count": 5,
      "outputs": [
        {
          "output_type": "stream",
          "text": [
            "No.of.unique values in each column :\n",
            " ADDRESS_X                          12268\n",
            "LATITUDE_X                         92838\n",
            "LONGITUDE_X                       122939\n",
            "AGE                                    9\n",
            "COMMUNITY_COUNCIL_NEIGHBORHOOD        71\n",
            "CPD_NEIGHBORHOOD                      53\n",
            "CRASHDATE                         117149\n",
            "CRASHLOCATION                         13\n",
            "CRASHSEVERITY                          8\n",
            "CRASHSEVERITYID                        8\n",
            "DATECRASHREPORTED                 119797\n",
            "DAYOFWEEK                              7\n",
            "GENDER                                 5\n",
            "INJURIES                              10\n",
            "INSTANCEID                        123566\n",
            "LIGHTCONDITIONSPRIMARY                14\n",
            "LOCALREPORTNO                     123504\n",
            "MANNEROFCRASH                          9\n",
            "ROADCONDITIONSPRIMARY                 11\n",
            "ROADCONTOUR                            5\n",
            "ROADSURFACE                            8\n",
            "SNA_NEIGHBORHOOD                      50\n",
            "TYPEOFPERSON                           3\n",
            "WEATHER                               12\n",
            "ZIP                                   72\n",
            "UNITTYPE                              52\n",
            "dtype: int64\n"
          ],
          "name": "stdout"
        }
      ]
    },
    {
      "cell_type": "code",
      "metadata": {
        "id": "4ZJ8wdy2VObA",
        "colab_type": "code",
        "colab": {
          "base_uri": "https://localhost:8080/",
          "height": 455
        },
        "outputId": "5823b7e3-169a-4ef3-904e-a7bace496734"
      },
      "source": [
        "#converting the column names to lower case \n",
        "data.columns= data.columns.str.lower()\n",
        "data.head()"
      ],
      "execution_count": 6,
      "outputs": [
        {
          "output_type": "execute_result",
          "data": {
            "text/html": [
              "<div>\n",
              "<style scoped>\n",
              "    .dataframe tbody tr th:only-of-type {\n",
              "        vertical-align: middle;\n",
              "    }\n",
              "\n",
              "    .dataframe tbody tr th {\n",
              "        vertical-align: top;\n",
              "    }\n",
              "\n",
              "    .dataframe thead th {\n",
              "        text-align: right;\n",
              "    }\n",
              "</style>\n",
              "<table border=\"1\" class=\"dataframe\">\n",
              "  <thead>\n",
              "    <tr style=\"text-align: right;\">\n",
              "      <th></th>\n",
              "      <th>address_x</th>\n",
              "      <th>latitude_x</th>\n",
              "      <th>longitude_x</th>\n",
              "      <th>age</th>\n",
              "      <th>community_council_neighborhood</th>\n",
              "      <th>cpd_neighborhood</th>\n",
              "      <th>crashdate</th>\n",
              "      <th>crashlocation</th>\n",
              "      <th>crashseverity</th>\n",
              "      <th>crashseverityid</th>\n",
              "      <th>datecrashreported</th>\n",
              "      <th>dayofweek</th>\n",
              "      <th>gender</th>\n",
              "      <th>injuries</th>\n",
              "      <th>instanceid</th>\n",
              "      <th>lightconditionsprimary</th>\n",
              "      <th>localreportno</th>\n",
              "      <th>mannerofcrash</th>\n",
              "      <th>roadconditionsprimary</th>\n",
              "      <th>roadcontour</th>\n",
              "      <th>roadsurface</th>\n",
              "      <th>sna_neighborhood</th>\n",
              "      <th>typeofperson</th>\n",
              "      <th>weather</th>\n",
              "      <th>zip</th>\n",
              "      <th>unittype</th>\n",
              "    </tr>\n",
              "  </thead>\n",
              "  <tbody>\n",
              "    <tr>\n",
              "      <th>0</th>\n",
              "      <td>NaN</td>\n",
              "      <td>NaN</td>\n",
              "      <td>NaN</td>\n",
              "      <td>UNKNOWN</td>\n",
              "      <td>NaN</td>\n",
              "      <td>NaN</td>\n",
              "      <td>NaN</td>\n",
              "      <td>NaN</td>\n",
              "      <td>NaN</td>\n",
              "      <td>NaN</td>\n",
              "      <td>NaN</td>\n",
              "      <td>NaN</td>\n",
              "      <td>NaN</td>\n",
              "      <td>NaN</td>\n",
              "      <td>9C12DABA-4EE6-4283-9443-CE45BE543EDC</td>\n",
              "      <td>NaN</td>\n",
              "      <td>NaN</td>\n",
              "      <td>NaN</td>\n",
              "      <td>NaN</td>\n",
              "      <td>NaN</td>\n",
              "      <td>NaN</td>\n",
              "      <td>NaN</td>\n",
              "      <td>NaN</td>\n",
              "      <td>NaN</td>\n",
              "      <td>NaN</td>\n",
              "      <td>NaN</td>\n",
              "    </tr>\n",
              "    <tr>\n",
              "      <th>1</th>\n",
              "      <td>NaN</td>\n",
              "      <td>NaN</td>\n",
              "      <td>NaN</td>\n",
              "      <td>UNKNOWN</td>\n",
              "      <td>NaN</td>\n",
              "      <td>NaN</td>\n",
              "      <td>10/05/2019 09:15:00 AM</td>\n",
              "      <td>NaN</td>\n",
              "      <td>5 - PROPERTY DAMAGE ONLY</td>\n",
              "      <td>201905.0</td>\n",
              "      <td>NaN</td>\n",
              "      <td>SAT</td>\n",
              "      <td>NaN</td>\n",
              "      <td>NaN</td>\n",
              "      <td>E6FD3246-699E-46DB-8CBE-A908C2E7D7FE</td>\n",
              "      <td>NaN</td>\n",
              "      <td>NaN</td>\n",
              "      <td>NaN</td>\n",
              "      <td>NaN</td>\n",
              "      <td>NaN</td>\n",
              "      <td>NaN</td>\n",
              "      <td>NaN</td>\n",
              "      <td>NaN</td>\n",
              "      <td>NaN</td>\n",
              "      <td>NaN</td>\n",
              "      <td>NaN</td>\n",
              "    </tr>\n",
              "    <tr>\n",
              "      <th>2</th>\n",
              "      <td>NaN</td>\n",
              "      <td>NaN</td>\n",
              "      <td>NaN</td>\n",
              "      <td>UNKNOWN</td>\n",
              "      <td>NaN</td>\n",
              "      <td>NaN</td>\n",
              "      <td>NaN</td>\n",
              "      <td>NaN</td>\n",
              "      <td>NaN</td>\n",
              "      <td>NaN</td>\n",
              "      <td>NaN</td>\n",
              "      <td>NaN</td>\n",
              "      <td>NaN</td>\n",
              "      <td>NaN</td>\n",
              "      <td>13F29735-61AC-4116-B41E-A58C66D3F991</td>\n",
              "      <td>NaN</td>\n",
              "      <td>135001314</td>\n",
              "      <td>NaN</td>\n",
              "      <td>NaN</td>\n",
              "      <td>NaN</td>\n",
              "      <td>NaN</td>\n",
              "      <td>NaN</td>\n",
              "      <td>NaN</td>\n",
              "      <td>NaN</td>\n",
              "      <td>NaN</td>\n",
              "      <td>NaN</td>\n",
              "    </tr>\n",
              "    <tr>\n",
              "      <th>3</th>\n",
              "      <td>NaN</td>\n",
              "      <td>NaN</td>\n",
              "      <td>NaN</td>\n",
              "      <td>UNKNOWN</td>\n",
              "      <td>NaN</td>\n",
              "      <td>NaN</td>\n",
              "      <td>NaN</td>\n",
              "      <td>NaN</td>\n",
              "      <td>NaN</td>\n",
              "      <td>NaN</td>\n",
              "      <td>NaN</td>\n",
              "      <td>NaN</td>\n",
              "      <td>NaN</td>\n",
              "      <td>NaN</td>\n",
              "      <td>13F29735-61AC-4116-B41E-A58C66D3F991</td>\n",
              "      <td>NaN</td>\n",
              "      <td>135001314</td>\n",
              "      <td>NaN</td>\n",
              "      <td>NaN</td>\n",
              "      <td>NaN</td>\n",
              "      <td>NaN</td>\n",
              "      <td>NaN</td>\n",
              "      <td>NaN</td>\n",
              "      <td>NaN</td>\n",
              "      <td>NaN</td>\n",
              "      <td>NaN</td>\n",
              "    </tr>\n",
              "    <tr>\n",
              "      <th>4</th>\n",
              "      <td>NaN</td>\n",
              "      <td>NaN</td>\n",
              "      <td>NaN</td>\n",
              "      <td>UNKNOWN</td>\n",
              "      <td>NaN</td>\n",
              "      <td>NaN</td>\n",
              "      <td>NaN</td>\n",
              "      <td>NaN</td>\n",
              "      <td>NaN</td>\n",
              "      <td>NaN</td>\n",
              "      <td>NaN</td>\n",
              "      <td>NaN</td>\n",
              "      <td>NaN</td>\n",
              "      <td>NaN</td>\n",
              "      <td>38160487-D58E-4D75-BBB9-B3D3C82F3D20</td>\n",
              "      <td>NaN</td>\n",
              "      <td>NaN</td>\n",
              "      <td>NaN</td>\n",
              "      <td>NaN</td>\n",
              "      <td>NaN</td>\n",
              "      <td>NaN</td>\n",
              "      <td>NaN</td>\n",
              "      <td>NaN</td>\n",
              "      <td>NaN</td>\n",
              "      <td>NaN</td>\n",
              "      <td>NaN</td>\n",
              "    </tr>\n",
              "  </tbody>\n",
              "</table>\n",
              "</div>"
            ],
            "text/plain": [
              "  address_x  latitude_x  longitude_x  ... weather  zip unittype\n",
              "0       NaN         NaN          NaN  ...     NaN  NaN      NaN\n",
              "1       NaN         NaN          NaN  ...     NaN  NaN      NaN\n",
              "2       NaN         NaN          NaN  ...     NaN  NaN      NaN\n",
              "3       NaN         NaN          NaN  ...     NaN  NaN      NaN\n",
              "4       NaN         NaN          NaN  ...     NaN  NaN      NaN\n",
              "\n",
              "[5 rows x 26 columns]"
            ]
          },
          "metadata": {
            "tags": []
          },
          "execution_count": 6
        }
      ]
    },
    {
      "cell_type": "code",
      "metadata": {
        "id": "-ShW7vU-TiGc",
        "colab_type": "code",
        "colab": {}
      },
      "source": [
        "#dropping un-necessary columns \n",
        "data.drop([\"instanceid\", \"community_council_neighborhood\",\"cpd_neighborhood\",\"crashdate\",\"localreportno\",\n",
        "           \"latitude_x\",\"longitude_x\",\"crashseverityid\",\"datecrashreported\",\"address_x\"], axis=1, inplace=True)"
      ],
      "execution_count": 7,
      "outputs": []
    },
    {
      "cell_type": "code",
      "metadata": {
        "id": "yjXUkiC0PzO2",
        "colab_type": "code",
        "colab": {}
      },
      "source": [
        "#dropping all the rows with missing values \n",
        "data.dropna(axis = 0, how = 'any', inplace=True)"
      ],
      "execution_count": 8,
      "outputs": []
    },
    {
      "cell_type": "code",
      "metadata": {
        "id": "CDbbZxojggSU",
        "colab_type": "code",
        "colab": {}
      },
      "source": [
        "# filling all na with UNKNOWN string, so we can encode later\n",
        "# data.fillna('NA', inplace=True)"
      ],
      "execution_count": 9,
      "outputs": []
    },
    {
      "cell_type": "code",
      "metadata": {
        "id": "J9ANorblggSi",
        "colab_type": "code",
        "colab": {
          "base_uri": "https://localhost:8080/",
          "height": 472
        },
        "outputId": "c27d52c8-9d02-4be1-f074-64c7e673562d"
      },
      "source": [
        "data.head()"
      ],
      "execution_count": 10,
      "outputs": [
        {
          "output_type": "execute_result",
          "data": {
            "text/html": [
              "<div>\n",
              "<style scoped>\n",
              "    .dataframe tbody tr th:only-of-type {\n",
              "        vertical-align: middle;\n",
              "    }\n",
              "\n",
              "    .dataframe tbody tr th {\n",
              "        vertical-align: top;\n",
              "    }\n",
              "\n",
              "    .dataframe thead th {\n",
              "        text-align: right;\n",
              "    }\n",
              "</style>\n",
              "<table border=\"1\" class=\"dataframe\">\n",
              "  <thead>\n",
              "    <tr style=\"text-align: right;\">\n",
              "      <th></th>\n",
              "      <th>age</th>\n",
              "      <th>crashlocation</th>\n",
              "      <th>crashseverity</th>\n",
              "      <th>dayofweek</th>\n",
              "      <th>gender</th>\n",
              "      <th>injuries</th>\n",
              "      <th>lightconditionsprimary</th>\n",
              "      <th>mannerofcrash</th>\n",
              "      <th>roadconditionsprimary</th>\n",
              "      <th>roadcontour</th>\n",
              "      <th>roadsurface</th>\n",
              "      <th>sna_neighborhood</th>\n",
              "      <th>typeofperson</th>\n",
              "      <th>weather</th>\n",
              "      <th>zip</th>\n",
              "      <th>unittype</th>\n",
              "    </tr>\n",
              "  </thead>\n",
              "  <tbody>\n",
              "    <tr>\n",
              "      <th>40</th>\n",
              "      <td>18-25</td>\n",
              "      <td>07 - ON RAMP</td>\n",
              "      <td>2 - INJURY</td>\n",
              "      <td>SAT</td>\n",
              "      <td>M - MALE</td>\n",
              "      <td>2 - POSSIBLE</td>\n",
              "      <td>4 - DARK - LIGHTED ROADWAY</td>\n",
              "      <td>2 - REAR-END</td>\n",
              "      <td>01 - DRY</td>\n",
              "      <td>1 - STRAIGHT LEVEL</td>\n",
              "      <td>1 - CONCRETE</td>\n",
              "      <td>AVONDALE</td>\n",
              "      <td>D - DRIVER</td>\n",
              "      <td>1 - CLEAR</td>\n",
              "      <td>45209</td>\n",
              "      <td>02 - COMPACT</td>\n",
              "    </tr>\n",
              "    <tr>\n",
              "      <th>41</th>\n",
              "      <td>UNDER 18</td>\n",
              "      <td>02 - FOUR-WAY INTERSECTION</td>\n",
              "      <td>2 - INJURY</td>\n",
              "      <td>THU</td>\n",
              "      <td>F - FEMALE</td>\n",
              "      <td>4 - INCAPACITATING</td>\n",
              "      <td>1 - DAYLIGHT</td>\n",
              "      <td>6 - ANGLE</td>\n",
              "      <td>01 - DRY</td>\n",
              "      <td>1 - STRAIGHT LEVEL</td>\n",
              "      <td>2 - BLACKTOP, BITUMINOUS, ASPHALT</td>\n",
              "      <td>WESTWOOD</td>\n",
              "      <td>O - OCCUPANT</td>\n",
              "      <td>1 - CLEAR</td>\n",
              "      <td>45211</td>\n",
              "      <td>03 - MID SIZE</td>\n",
              "    </tr>\n",
              "    <tr>\n",
              "      <th>47</th>\n",
              "      <td>31-40</td>\n",
              "      <td>03 - T-INTERSECTION</td>\n",
              "      <td>3 - PROPERTY DAMAGE ONLY (PDO)</td>\n",
              "      <td>TUE</td>\n",
              "      <td>M - MALE</td>\n",
              "      <td>1 - NO INJURY / NONE REPORTED</td>\n",
              "      <td>4 - DARK - LIGHTED ROADWAY</td>\n",
              "      <td>7 - SIDESWIPE, SAME DIRECTION</td>\n",
              "      <td>02 - WET</td>\n",
              "      <td>3 - CURVE LEVEL</td>\n",
              "      <td>2 - BLACKTOP, BITUMINOUS, ASPHALT</td>\n",
              "      <td>COLLEGE HILL</td>\n",
              "      <td>D - DRIVER</td>\n",
              "      <td>2 - CLOUDY</td>\n",
              "      <td>45239</td>\n",
              "      <td>03 - MID SIZE</td>\n",
              "    </tr>\n",
              "    <tr>\n",
              "      <th>49</th>\n",
              "      <td>51-60</td>\n",
              "      <td>01 - NOT AN INTERSECTION</td>\n",
              "      <td>3 - PROPERTY DAMAGE ONLY (PDO)</td>\n",
              "      <td>WED</td>\n",
              "      <td>M - MALE</td>\n",
              "      <td>1 - NO INJURY / NONE REPORTED</td>\n",
              "      <td>1 - DAYLIGHT</td>\n",
              "      <td>7 - SIDESWIPE, SAME DIRECTION</td>\n",
              "      <td>01 - DRY</td>\n",
              "      <td>1 - STRAIGHT LEVEL</td>\n",
              "      <td>2 - BLACKTOP, BITUMINOUS, ASPHALT</td>\n",
              "      <td>CORRYVILLE</td>\n",
              "      <td>D - DRIVER</td>\n",
              "      <td>1 - CLEAR</td>\n",
              "      <td>45219</td>\n",
              "      <td>06 - SPORT UTILITY VEHICLE</td>\n",
              "    </tr>\n",
              "    <tr>\n",
              "      <th>50</th>\n",
              "      <td>61-70</td>\n",
              "      <td>01 - NOT AN INTERSECTION</td>\n",
              "      <td>2 - INJURY</td>\n",
              "      <td>SAT</td>\n",
              "      <td>F - FEMALE</td>\n",
              "      <td>3 - NON-INCAPACITATING</td>\n",
              "      <td>1 - DAYLIGHT</td>\n",
              "      <td>1 - NOT COLLISION BETWEEN TWO MOTOR VEHICLES I...</td>\n",
              "      <td>01 - DRY</td>\n",
              "      <td>1 - STRAIGHT LEVEL</td>\n",
              "      <td>2 - BLACKTOP, BITUMINOUS, ASPHALT</td>\n",
              "      <td>WEST END</td>\n",
              "      <td>P - PEDESTRIAN</td>\n",
              "      <td>1 - CLEAR</td>\n",
              "      <td>45203</td>\n",
              "      <td>26 - PEDESTRIAN/SKATER</td>\n",
              "    </tr>\n",
              "  </tbody>\n",
              "</table>\n",
              "</div>"
            ],
            "text/plain": [
              "         age               crashlocation  ...    zip                    unittype\n",
              "40     18-25                07 - ON RAMP  ...  45209                02 - COMPACT\n",
              "41  UNDER 18  02 - FOUR-WAY INTERSECTION  ...  45211               03 - MID SIZE\n",
              "47     31-40         03 - T-INTERSECTION  ...  45239               03 - MID SIZE\n",
              "49     51-60    01 - NOT AN INTERSECTION  ...  45219  06 - SPORT UTILITY VEHICLE\n",
              "50     61-70    01 - NOT AN INTERSECTION  ...  45203      26 - PEDESTRIAN/SKATER\n",
              "\n",
              "[5 rows x 16 columns]"
            ]
          },
          "metadata": {
            "tags": []
          },
          "execution_count": 10
        }
      ]
    },
    {
      "cell_type": "code",
      "metadata": {
        "id": "5-bK228KggSm",
        "colab_type": "code",
        "colab": {
          "base_uri": "https://localhost:8080/",
          "height": 100
        },
        "outputId": "4688799b-ab63-4cf5-965e-2d1c72934c56"
      },
      "source": [
        "# Useful columns for further experiment\n",
        "data.columns"
      ],
      "execution_count": 11,
      "outputs": [
        {
          "output_type": "execute_result",
          "data": {
            "text/plain": [
              "Index(['age', 'crashlocation', 'crashseverity', 'dayofweek', 'gender',\n",
              "       'injuries', 'lightconditionsprimary', 'mannerofcrash',\n",
              "       'roadconditionsprimary', 'roadcontour', 'roadsurface',\n",
              "       'sna_neighborhood', 'typeofperson', 'weather', 'zip', 'unittype'],\n",
              "      dtype='object')"
            ]
          },
          "metadata": {
            "tags": []
          },
          "execution_count": 11
        }
      ]
    },
    {
      "cell_type": "code",
      "metadata": {
        "id": "ly8m_eGPggSr",
        "colab_type": "code",
        "colab": {}
      },
      "source": [
        "#onehot encodig the manner of crash column \n",
        "ohe = OneHotEncoder(handle_unknown='ignore')\n",
        "crash_type = data['mannerofcrash']\n",
        "crash_df = pd.DataFrame(crash_type, columns=['mannerofcrash'])\n",
        "crash_df = pd.DataFrame(ohe.fit_transform(crash_df[['mannerofcrash']]).toarray())"
      ],
      "execution_count": 12,
      "outputs": []
    },
    {
      "cell_type": "code",
      "metadata": {
        "id": "L_4QMNoxggSv",
        "colab_type": "code",
        "colab": {}
      },
      "source": [
        "#filtering the data by mannerofcrash\n",
        "crash_col = data['mannerofcrash'].unique()\n",
        "crash_df.columns = crash_col"
      ],
      "execution_count": 13,
      "outputs": []
    },
    {
      "cell_type": "code",
      "metadata": {
        "id": "fFPncx5OggSy",
        "colab_type": "code",
        "colab": {
          "base_uri": "https://localhost:8080/",
          "height": 100
        },
        "outputId": "acd1eff7-4100-4ddf-8e1f-f7a1acbbfce4"
      },
      "source": [
        "crash_df.columns"
      ],
      "execution_count": 14,
      "outputs": [
        {
          "output_type": "execute_result",
          "data": {
            "text/plain": [
              "Index(['2 - REAR-END', '6 - ANGLE', '7 - SIDESWIPE, SAME DIRECTION',\n",
              "       '1 - NOT COLLISION BETWEEN TWO MOTOR VEHICLES IN TRANSPORT',\n",
              "       '4 - REAR-TO-REAR', '8 - SIDESWIPE, OPPOSITE DIRECTION', '3 - HEAD-ON',\n",
              "       '5 - BACKING', '9 - UNKNOWN'],\n",
              "      dtype='object')"
            ]
          },
          "metadata": {
            "tags": []
          },
          "execution_count": 14
        }
      ]
    },
    {
      "cell_type": "code",
      "metadata": {
        "id": "6JSXLYHTggS3",
        "colab_type": "code",
        "colab": {
          "base_uri": "https://localhost:8080/",
          "height": 220
        },
        "outputId": "75100733-c3b6-47da-a4d2-35d0100f8679"
      },
      "source": [
        "# We will also create a new dataframe for them\n",
        "text_col = ['age', 'sna_neighborhood', 'crashseverity', 'dayofweek',\n",
        "       'crashlocation', 'gender', 'injuries', 'lightconditionsprimary',\n",
        "       'roadconditionsprimary', 'roadcontour', 'roadsurface',\n",
        "       'typeofperson', 'weather', 'unittype', 'zip']\n",
        "en_df = pd.DataFrame()\n",
        "for col in text_col:\n",
        "    encoder = LabelEncoder()\n",
        "#     data[cat] = le.fit_transform(df[cat].astype(str))\n",
        "\n",
        "    en_df[col] = encoder.fit_transform(data[col].astype(str))\n",
        "    \n",
        "en_df.head()"
      ],
      "execution_count": 15,
      "outputs": [
        {
          "output_type": "execute_result",
          "data": {
            "text/html": [
              "<div>\n",
              "<style scoped>\n",
              "    .dataframe tbody tr th:only-of-type {\n",
              "        vertical-align: middle;\n",
              "    }\n",
              "\n",
              "    .dataframe tbody tr th {\n",
              "        vertical-align: top;\n",
              "    }\n",
              "\n",
              "    .dataframe thead th {\n",
              "        text-align: right;\n",
              "    }\n",
              "</style>\n",
              "<table border=\"1\" class=\"dataframe\">\n",
              "  <thead>\n",
              "    <tr style=\"text-align: right;\">\n",
              "      <th></th>\n",
              "      <th>age</th>\n",
              "      <th>sna_neighborhood</th>\n",
              "      <th>crashseverity</th>\n",
              "      <th>dayofweek</th>\n",
              "      <th>crashlocation</th>\n",
              "      <th>gender</th>\n",
              "      <th>injuries</th>\n",
              "      <th>lightconditionsprimary</th>\n",
              "      <th>roadconditionsprimary</th>\n",
              "      <th>roadcontour</th>\n",
              "      <th>roadsurface</th>\n",
              "      <th>typeofperson</th>\n",
              "      <th>weather</th>\n",
              "      <th>unittype</th>\n",
              "      <th>zip</th>\n",
              "    </tr>\n",
              "  </thead>\n",
              "  <tbody>\n",
              "    <tr>\n",
              "      <th>0</th>\n",
              "      <td>0</td>\n",
              "      <td>0</td>\n",
              "      <td>1</td>\n",
              "      <td>2</td>\n",
              "      <td>6</td>\n",
              "      <td>2</td>\n",
              "      <td>1</td>\n",
              "      <td>5</td>\n",
              "      <td>0</td>\n",
              "      <td>0</td>\n",
              "      <td>0</td>\n",
              "      <td>0</td>\n",
              "      <td>0</td>\n",
              "      <td>2</td>\n",
              "      <td>18</td>\n",
              "    </tr>\n",
              "    <tr>\n",
              "      <th>1</th>\n",
              "      <td>7</td>\n",
              "      <td>48</td>\n",
              "      <td>1</td>\n",
              "      <td>4</td>\n",
              "      <td>1</td>\n",
              "      <td>0</td>\n",
              "      <td>5</td>\n",
              "      <td>0</td>\n",
              "      <td>0</td>\n",
              "      <td>0</td>\n",
              "      <td>1</td>\n",
              "      <td>1</td>\n",
              "      <td>0</td>\n",
              "      <td>4</td>\n",
              "      <td>20</td>\n",
              "    </tr>\n",
              "    <tr>\n",
              "      <th>2</th>\n",
              "      <td>2</td>\n",
              "      <td>6</td>\n",
              "      <td>4</td>\n",
              "      <td>5</td>\n",
              "      <td>2</td>\n",
              "      <td>2</td>\n",
              "      <td>0</td>\n",
              "      <td>5</td>\n",
              "      <td>1</td>\n",
              "      <td>2</td>\n",
              "      <td>1</td>\n",
              "      <td>0</td>\n",
              "      <td>1</td>\n",
              "      <td>4</td>\n",
              "      <td>47</td>\n",
              "    </tr>\n",
              "    <tr>\n",
              "      <th>3</th>\n",
              "      <td>4</td>\n",
              "      <td>8</td>\n",
              "      <td>4</td>\n",
              "      <td>6</td>\n",
              "      <td>0</td>\n",
              "      <td>2</td>\n",
              "      <td>0</td>\n",
              "      <td>0</td>\n",
              "      <td>0</td>\n",
              "      <td>0</td>\n",
              "      <td>1</td>\n",
              "      <td>0</td>\n",
              "      <td>0</td>\n",
              "      <td>8</td>\n",
              "      <td>28</td>\n",
              "    </tr>\n",
              "    <tr>\n",
              "      <th>4</th>\n",
              "      <td>5</td>\n",
              "      <td>46</td>\n",
              "      <td>1</td>\n",
              "      <td>2</td>\n",
              "      <td>0</td>\n",
              "      <td>0</td>\n",
              "      <td>3</td>\n",
              "      <td>0</td>\n",
              "      <td>0</td>\n",
              "      <td>0</td>\n",
              "      <td>1</td>\n",
              "      <td>2</td>\n",
              "      <td>0</td>\n",
              "      <td>30</td>\n",
              "      <td>12</td>\n",
              "    </tr>\n",
              "  </tbody>\n",
              "</table>\n",
              "</div>"
            ],
            "text/plain": [
              "   age  sna_neighborhood  crashseverity  ...  weather  unittype  zip\n",
              "0    0                 0              1  ...        0         2   18\n",
              "1    7                48              1  ...        0         4   20\n",
              "2    2                 6              4  ...        1         4   47\n",
              "3    4                 8              4  ...        0         8   28\n",
              "4    5                46              1  ...        0        30   12\n",
              "\n",
              "[5 rows x 15 columns]"
            ]
          },
          "metadata": {
            "tags": []
          },
          "execution_count": 15
        }
      ]
    },
    {
      "cell_type": "code",
      "metadata": {
        "id": "6Tzvdn5sggS8",
        "colab_type": "code",
        "colab": {}
      },
      "source": [
        "\n",
        "# Merge the FIRST_CRASH_TYPE and the LabelEncoded dataframe together\n",
        "df2 = pd.merge(crash_df, en_df, left_index=True, right_index=True)"
      ],
      "execution_count": 16,
      "outputs": []
    },
    {
      "cell_type": "code",
      "metadata": {
        "id": "GnTXrb6mggTA",
        "colab_type": "code",
        "colab": {
          "base_uri": "https://localhost:8080/",
          "height": 321
        },
        "outputId": "4f244ad7-2416-47ab-ff72-d582e790a927"
      },
      "source": [
        "df2.head()"
      ],
      "execution_count": 17,
      "outputs": [
        {
          "output_type": "execute_result",
          "data": {
            "text/html": [
              "<div>\n",
              "<style scoped>\n",
              "    .dataframe tbody tr th:only-of-type {\n",
              "        vertical-align: middle;\n",
              "    }\n",
              "\n",
              "    .dataframe tbody tr th {\n",
              "        vertical-align: top;\n",
              "    }\n",
              "\n",
              "    .dataframe thead th {\n",
              "        text-align: right;\n",
              "    }\n",
              "</style>\n",
              "<table border=\"1\" class=\"dataframe\">\n",
              "  <thead>\n",
              "    <tr style=\"text-align: right;\">\n",
              "      <th></th>\n",
              "      <th>2 - REAR-END</th>\n",
              "      <th>6 - ANGLE</th>\n",
              "      <th>7 - SIDESWIPE, SAME DIRECTION</th>\n",
              "      <th>1 - NOT COLLISION BETWEEN TWO MOTOR VEHICLES IN TRANSPORT</th>\n",
              "      <th>4 - REAR-TO-REAR</th>\n",
              "      <th>8 - SIDESWIPE, OPPOSITE DIRECTION</th>\n",
              "      <th>3 - HEAD-ON</th>\n",
              "      <th>5 - BACKING</th>\n",
              "      <th>9 - UNKNOWN</th>\n",
              "      <th>age</th>\n",
              "      <th>sna_neighborhood</th>\n",
              "      <th>crashseverity</th>\n",
              "      <th>dayofweek</th>\n",
              "      <th>crashlocation</th>\n",
              "      <th>gender</th>\n",
              "      <th>injuries</th>\n",
              "      <th>lightconditionsprimary</th>\n",
              "      <th>roadconditionsprimary</th>\n",
              "      <th>roadcontour</th>\n",
              "      <th>roadsurface</th>\n",
              "      <th>typeofperson</th>\n",
              "      <th>weather</th>\n",
              "      <th>unittype</th>\n",
              "      <th>zip</th>\n",
              "    </tr>\n",
              "  </thead>\n",
              "  <tbody>\n",
              "    <tr>\n",
              "      <th>0</th>\n",
              "      <td>0.0</td>\n",
              "      <td>1.0</td>\n",
              "      <td>0.0</td>\n",
              "      <td>0.0</td>\n",
              "      <td>0.0</td>\n",
              "      <td>0.0</td>\n",
              "      <td>0.0</td>\n",
              "      <td>0.0</td>\n",
              "      <td>0.0</td>\n",
              "      <td>0</td>\n",
              "      <td>0</td>\n",
              "      <td>1</td>\n",
              "      <td>2</td>\n",
              "      <td>6</td>\n",
              "      <td>2</td>\n",
              "      <td>1</td>\n",
              "      <td>5</td>\n",
              "      <td>0</td>\n",
              "      <td>0</td>\n",
              "      <td>0</td>\n",
              "      <td>0</td>\n",
              "      <td>0</td>\n",
              "      <td>2</td>\n",
              "      <td>18</td>\n",
              "    </tr>\n",
              "    <tr>\n",
              "      <th>1</th>\n",
              "      <td>0.0</td>\n",
              "      <td>0.0</td>\n",
              "      <td>0.0</td>\n",
              "      <td>0.0</td>\n",
              "      <td>0.0</td>\n",
              "      <td>1.0</td>\n",
              "      <td>0.0</td>\n",
              "      <td>0.0</td>\n",
              "      <td>0.0</td>\n",
              "      <td>7</td>\n",
              "      <td>48</td>\n",
              "      <td>1</td>\n",
              "      <td>4</td>\n",
              "      <td>1</td>\n",
              "      <td>0</td>\n",
              "      <td>5</td>\n",
              "      <td>0</td>\n",
              "      <td>0</td>\n",
              "      <td>0</td>\n",
              "      <td>1</td>\n",
              "      <td>1</td>\n",
              "      <td>0</td>\n",
              "      <td>4</td>\n",
              "      <td>20</td>\n",
              "    </tr>\n",
              "    <tr>\n",
              "      <th>2</th>\n",
              "      <td>0.0</td>\n",
              "      <td>0.0</td>\n",
              "      <td>0.0</td>\n",
              "      <td>0.0</td>\n",
              "      <td>0.0</td>\n",
              "      <td>0.0</td>\n",
              "      <td>1.0</td>\n",
              "      <td>0.0</td>\n",
              "      <td>0.0</td>\n",
              "      <td>2</td>\n",
              "      <td>6</td>\n",
              "      <td>4</td>\n",
              "      <td>5</td>\n",
              "      <td>2</td>\n",
              "      <td>2</td>\n",
              "      <td>0</td>\n",
              "      <td>5</td>\n",
              "      <td>1</td>\n",
              "      <td>2</td>\n",
              "      <td>1</td>\n",
              "      <td>0</td>\n",
              "      <td>1</td>\n",
              "      <td>4</td>\n",
              "      <td>47</td>\n",
              "    </tr>\n",
              "    <tr>\n",
              "      <th>3</th>\n",
              "      <td>0.0</td>\n",
              "      <td>0.0</td>\n",
              "      <td>0.0</td>\n",
              "      <td>0.0</td>\n",
              "      <td>0.0</td>\n",
              "      <td>0.0</td>\n",
              "      <td>1.0</td>\n",
              "      <td>0.0</td>\n",
              "      <td>0.0</td>\n",
              "      <td>4</td>\n",
              "      <td>8</td>\n",
              "      <td>4</td>\n",
              "      <td>6</td>\n",
              "      <td>0</td>\n",
              "      <td>2</td>\n",
              "      <td>0</td>\n",
              "      <td>0</td>\n",
              "      <td>0</td>\n",
              "      <td>0</td>\n",
              "      <td>1</td>\n",
              "      <td>0</td>\n",
              "      <td>0</td>\n",
              "      <td>8</td>\n",
              "      <td>28</td>\n",
              "    </tr>\n",
              "    <tr>\n",
              "      <th>4</th>\n",
              "      <td>1.0</td>\n",
              "      <td>0.0</td>\n",
              "      <td>0.0</td>\n",
              "      <td>0.0</td>\n",
              "      <td>0.0</td>\n",
              "      <td>0.0</td>\n",
              "      <td>0.0</td>\n",
              "      <td>0.0</td>\n",
              "      <td>0.0</td>\n",
              "      <td>5</td>\n",
              "      <td>46</td>\n",
              "      <td>1</td>\n",
              "      <td>2</td>\n",
              "      <td>0</td>\n",
              "      <td>0</td>\n",
              "      <td>3</td>\n",
              "      <td>0</td>\n",
              "      <td>0</td>\n",
              "      <td>0</td>\n",
              "      <td>1</td>\n",
              "      <td>2</td>\n",
              "      <td>0</td>\n",
              "      <td>30</td>\n",
              "      <td>12</td>\n",
              "    </tr>\n",
              "  </tbody>\n",
              "</table>\n",
              "</div>"
            ],
            "text/plain": [
              "   2 - REAR-END  6 - ANGLE  ...  unittype  zip\n",
              "0           0.0        1.0  ...         2   18\n",
              "1           0.0        0.0  ...         4   20\n",
              "2           0.0        0.0  ...         4   47\n",
              "3           0.0        0.0  ...         8   28\n",
              "4           1.0        0.0  ...        30   12\n",
              "\n",
              "[5 rows x 24 columns]"
            ]
          },
          "metadata": {
            "tags": []
          },
          "execution_count": 17
        }
      ]
    },
    {
      "cell_type": "code",
      "metadata": {
        "id": "PZzy1iRLggTE",
        "colab_type": "code",
        "colab": {
          "base_uri": "https://localhost:8080/",
          "height": 151
        },
        "outputId": "a0488374-e395-46f5-e060-2dbf4794c615"
      },
      "source": [
        "df2.columns"
      ],
      "execution_count": 18,
      "outputs": [
        {
          "output_type": "execute_result",
          "data": {
            "text/plain": [
              "Index(['2 - REAR-END', '6 - ANGLE', '7 - SIDESWIPE, SAME DIRECTION',\n",
              "       '1 - NOT COLLISION BETWEEN TWO MOTOR VEHICLES IN TRANSPORT',\n",
              "       '4 - REAR-TO-REAR', '8 - SIDESWIPE, OPPOSITE DIRECTION', '3 - HEAD-ON',\n",
              "       '5 - BACKING', '9 - UNKNOWN', 'age', 'sna_neighborhood',\n",
              "       'crashseverity', 'dayofweek', 'crashlocation', 'gender', 'injuries',\n",
              "       'lightconditionsprimary', 'roadconditionsprimary', 'roadcontour',\n",
              "       'roadsurface', 'typeofperson', 'weather', 'unittype', 'zip'],\n",
              "      dtype='object')"
            ]
          },
          "metadata": {
            "tags": []
          },
          "execution_count": 18
        }
      ]
    },
    {
      "cell_type": "markdown",
      "metadata": {
        "id": "Y7FecllCXL_R",
        "colab_type": "text"
      },
      "source": [
        "Splitting the data into X & Y "
      ]
    },
    {
      "cell_type": "code",
      "metadata": {
        "id": "9tyMp07aggTL",
        "colab_type": "code",
        "colab": {}
      },
      "source": [
        "y = df2['crashseverity']\n",
        "X = df2.loc[:, df2.columns != 'crashseverity']"
      ],
      "execution_count": 19,
      "outputs": []
    },
    {
      "cell_type": "code",
      "metadata": {
        "id": "-IBewRE0ggTQ",
        "colab_type": "code",
        "colab": {}
      },
      "source": [
        "# Train and Test on a Vanilla model (test size to 20%)\n",
        "dt_model = DecisionTreeClassifier(random_state=1)\n",
        "X_train, X_test, y_train, y_test = train_test_split(X, y, test_size=0.1, random_state=42, stratify=y)"
      ],
      "execution_count": 20,
      "outputs": []
    },
    {
      "cell_type": "code",
      "metadata": {
        "id": "ixPdrjpFggTU",
        "colab_type": "code",
        "colab": {
          "base_uri": "https://localhost:8080/",
          "height": 117
        },
        "outputId": "8d673c6a-46ed-42d6-c3d6-eb7aacfb36a3"
      },
      "source": [
        "dt_model.fit(X_train, y_train)"
      ],
      "execution_count": 21,
      "outputs": [
        {
          "output_type": "execute_result",
          "data": {
            "text/plain": [
              "DecisionTreeClassifier(ccp_alpha=0.0, class_weight=None, criterion='gini',\n",
              "                       max_depth=None, max_features=None, max_leaf_nodes=None,\n",
              "                       min_impurity_decrease=0.0, min_impurity_split=None,\n",
              "                       min_samples_leaf=1, min_samples_split=2,\n",
              "                       min_weight_fraction_leaf=0.0, presort='deprecated',\n",
              "                       random_state=1, splitter='best')"
            ]
          },
          "metadata": {
            "tags": []
          },
          "execution_count": 21
        }
      ]
    },
    {
      "cell_type": "code",
      "metadata": {
        "id": "dg5gkvlVggTZ",
        "colab_type": "code",
        "colab": {}
      },
      "source": [
        "y_train_pred = dt_model.predict(X_train)\n",
        "y_test_pred = dt_model.predict(X_test)"
      ],
      "execution_count": 22,
      "outputs": []
    },
    {
      "cell_type": "code",
      "metadata": {
        "id": "LwqiB1I_ggTe",
        "colab_type": "code",
        "colab": {
          "base_uri": "https://localhost:8080/",
          "height": 50
        },
        "outputId": "2f76c06d-e4df-413a-97f5-05c4dae2bdc1"
      },
      "source": [
        "print(f'Accuracy Score Train: {accuracy_score(y_train, y_train_pred)}')\n",
        "print(f'Accuracy Score Test: {accuracy_score(y_test, y_test_pred)}')"
      ],
      "execution_count": 23,
      "outputs": [
        {
          "output_type": "stream",
          "text": [
            "Accuracy Score Train: 0.9941027049292874\n",
            "Accuracy Score Test: 0.8193388940376892\n"
          ],
          "name": "stdout"
        }
      ]
    },
    {
      "cell_type": "code",
      "metadata": {
        "id": "ijI6KiCgggTi",
        "colab_type": "code",
        "colab": {
          "base_uri": "https://localhost:8080/",
          "height": 151
        },
        "outputId": "4d258c69-5f31-425b-9113-619b9bba05be"
      },
      "source": [
        "\n",
        "rf = RandomForestClassifier(class_weight='balanced', random_state=1)\n",
        "X_train, X_test, y_train, y_test = train_test_split(X, y, test_size=0.1, random_state=42, stratify=y)\n",
        "rf.fit(X_train, y_train)\n"
      ],
      "execution_count": 24,
      "outputs": [
        {
          "output_type": "execute_result",
          "data": {
            "text/plain": [
              "RandomForestClassifier(bootstrap=True, ccp_alpha=0.0, class_weight='balanced',\n",
              "                       criterion='gini', max_depth=None, max_features='auto',\n",
              "                       max_leaf_nodes=None, max_samples=None,\n",
              "                       min_impurity_decrease=0.0, min_impurity_split=None,\n",
              "                       min_samples_leaf=1, min_samples_split=2,\n",
              "                       min_weight_fraction_leaf=0.0, n_estimators=100,\n",
              "                       n_jobs=None, oob_score=False, random_state=1, verbose=0,\n",
              "                       warm_start=False)"
            ]
          },
          "metadata": {
            "tags": []
          },
          "execution_count": 24
        }
      ]
    },
    {
      "cell_type": "code",
      "metadata": {
        "id": "TD-XSU1WggTn",
        "colab_type": "code",
        "colab": {
          "base_uri": "https://localhost:8080/",
          "height": 50
        },
        "outputId": "fa56a43c-1fa1-4653-f25d-4af6afdafc10"
      },
      "source": [
        "y_train_pred = rf.predict(X_train)\n",
        "y_test_pred = rf.predict(X_test)\n",
        "\n",
        "print(f'Accuracy Score Train: {accuracy_score(y_train, y_train_pred)}')\n",
        "print(f'Accuracy Score Test: {accuracy_score(y_test, y_test_pred)}')"
      ],
      "execution_count": 25,
      "outputs": [
        {
          "output_type": "stream",
          "text": [
            "Accuracy Score Train: 0.9939653988740903\n",
            "Accuracy Score Test: 0.882483781278962\n"
          ],
          "name": "stdout"
        }
      ]
    },
    {
      "cell_type": "code",
      "metadata": {
        "id": "PlNNA0oaXcpw",
        "colab_type": "code",
        "colab": {}
      },
      "source": [
        "## Random forest classifier using grid search cv "
      ],
      "execution_count": 26,
      "outputs": []
    },
    {
      "cell_type": "code",
      "metadata": {
        "id": "DpXDUO79ggTs",
        "colab_type": "code",
        "colab": {
          "base_uri": "https://localhost:8080/",
          "height": 419
        },
        "outputId": "fc62254a-2323-4c66-e503-dbae889a5f6d"
      },
      "source": [
        "# Here we set a some parameters that the GridSearch will run through.\n",
        "grid_p = {\"n_estimators\": [100, 150],\n",
        "          \"criterion\": [\"gini\"],\n",
        "          \"max_depth\": [12, 14, 17],\n",
        "          \"min_samples_split\": [4,5],\n",
        "          \"min_samples_leaf\": [4,5,6,]\n",
        "         }\n",
        "\n",
        "grid_search = GridSearchCV(rf, grid_p, n_jobs=-1, cv=10, scoring='accuracy')\n",
        "grid_search.fit(X_train, y_train)"
      ],
      "execution_count": 27,
      "outputs": [
        {
          "output_type": "stream",
          "text": [
            "/usr/local/lib/python3.6/dist-packages/sklearn/model_selection/_split.py:667: UserWarning: The least populated class in y has only 4 members, which is less than n_splits=10.\n",
            "  % (min_groups, self.n_splits)), UserWarning)\n"
          ],
          "name": "stderr"
        },
        {
          "output_type": "execute_result",
          "data": {
            "text/plain": [
              "GridSearchCV(cv=10, error_score=nan,\n",
              "             estimator=RandomForestClassifier(bootstrap=True, ccp_alpha=0.0,\n",
              "                                              class_weight='balanced',\n",
              "                                              criterion='gini', max_depth=None,\n",
              "                                              max_features='auto',\n",
              "                                              max_leaf_nodes=None,\n",
              "                                              max_samples=None,\n",
              "                                              min_impurity_decrease=0.0,\n",
              "                                              min_impurity_split=None,\n",
              "                                              min_samples_leaf=1,\n",
              "                                              min_samples_split=2,\n",
              "                                              min_weight_fraction_leaf=0.0,\n",
              "                                              n_estimators=100, n_jobs=None,\n",
              "                                              oob_score=False, random_state=1,\n",
              "                                              verbose=0, warm_start=False),\n",
              "             iid='deprecated', n_jobs=-1,\n",
              "             param_grid={'criterion': ['gini'], 'max_depth': [12, 14, 17],\n",
              "                         'min_samples_leaf': [4, 5, 6],\n",
              "                         'min_samples_split': [4, 5],\n",
              "                         'n_estimators': [100, 150]},\n",
              "             pre_dispatch='2*n_jobs', refit=True, return_train_score=False,\n",
              "             scoring='accuracy', verbose=0)"
            ]
          },
          "metadata": {
            "tags": []
          },
          "execution_count": 27
        }
      ]
    },
    {
      "cell_type": "code",
      "metadata": {
        "id": "YXteJlxlggTw",
        "colab_type": "code",
        "colab": {
          "base_uri": "https://localhost:8080/",
          "height": 33
        },
        "outputId": "ec79217d-c1fc-4efd-d0b8-468d15ca72a3"
      },
      "source": [
        "grid_search.best_score_"
      ],
      "execution_count": 28,
      "outputs": [
        {
          "output_type": "execute_result",
          "data": {
            "text/plain": [
              "0.8893999725387889"
            ]
          },
          "metadata": {
            "tags": []
          },
          "execution_count": 28
        }
      ]
    },
    {
      "cell_type": "code",
      "metadata": {
        "id": "oNOPNjY3ggT1",
        "colab_type": "code",
        "colab": {
          "base_uri": "https://localhost:8080/",
          "height": 100
        },
        "outputId": "d0541e99-ca41-4a36-c06d-9380c6f7c587"
      },
      "source": [
        "grid_search.best_params_"
      ],
      "execution_count": 29,
      "outputs": [
        {
          "output_type": "execute_result",
          "data": {
            "text/plain": [
              "{'criterion': 'gini',\n",
              " 'max_depth': 17,\n",
              " 'min_samples_leaf': 4,\n",
              " 'min_samples_split': 4,\n",
              " 'n_estimators': 150}"
            ]
          },
          "metadata": {
            "tags": []
          },
          "execution_count": 29
        }
      ]
    },
    {
      "cell_type": "code",
      "metadata": {
        "id": "ORFBQCZ_hRLJ",
        "colab_type": "code",
        "colab": {
          "base_uri": "https://localhost:8080/",
          "height": 50
        },
        "outputId": "813c5e7c-6b95-4919-91f5-94c6d511f546"
      },
      "source": [
        "y_train_pred = grid_search.predict(X_train)\n",
        "y_test_pred = grid_search.predict(X_test)\n",
        "\n",
        "print(f'Accuracy Score Train: {accuracy_score(y_train, y_train_pred)}')\n",
        "print(f'Accuracy Score Test: {accuracy_score(y_test, y_test_pred)}')"
      ],
      "execution_count": 30,
      "outputs": [
        {
          "output_type": "stream",
          "text": [
            "Accuracy Score Train: 0.9051077852533297\n",
            "Accuracy Score Test: 0.8852023478529503\n"
          ],
          "name": "stdout"
        }
      ]
    },
    {
      "cell_type": "code",
      "metadata": {
        "id": "-RA8nENHoZo-",
        "colab_type": "code",
        "colab": {}
      },
      "source": [
        ""
      ],
      "execution_count": 30,
      "outputs": []
    }
  ]
}